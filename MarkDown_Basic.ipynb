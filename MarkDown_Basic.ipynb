{
 "cells": [
  {
   "cell_type": "markdown",
   "metadata": {},
   "source": [
    "# Drarpepe Content\n",
    "## Destination"
   ]
  },
  {
   "cell_type": "markdown",
   "metadata": {},
   "source": [
    "# Contents  \n",
    "* [Read a text](#Hyperlink)\n"
   ]
  },
  {
   "cell_type": "markdown",
   "metadata": {},
   "source": [
    "* Coffee\n",
    "* Tea\n",
    "* Soft Drink"
   ]
  },
  {
   "cell_type": "markdown",
   "metadata": {},
   "source": [
    "1. Cappuchino\n",
    "    * coffe\n",
    "    * Water \n",
    "    * Sugar\n",
    "2. Mocca\n",
    "3. Americano"
   ]
  },
  {
   "cell_type": "markdown",
   "metadata": {},
   "source": [
    "*Canitsava*"
   ]
  },
  {
   "cell_type": "markdown",
   "metadata": {},
   "source": [
    "**arpepe**"
   ]
  },
  {
   "cell_type": "markdown",
   "metadata": {},
   "source": [
    "***alexpe***"
   ]
  },
  {
   "cell_type": "markdown",
   "metadata": {},
   "source": [
    "# Hyperlink"
   ]
  },
  {
   "cell_type": "markdown",
   "metadata": {},
   "source": [
    "http://youtube.com  \n",
    "[ไปเยี่ยมเวบ youtube](https://youtube.com)"
   ]
  },
  {
   "cell_type": "code",
   "execution_count": 4,
   "metadata": {},
   "outputs": [
    {
     "ename": "SyntaxError",
     "evalue": "invalid syntax (<ipython-input-4-7feb3e2460bd>, line 2)",
     "output_type": "error",
     "traceback": [
      "\u001b[0;36m  File \u001b[0;32m\"<ipython-input-4-7feb3e2460bd>\"\u001b[0;36m, line \u001b[0;32m2\u001b[0m\n\u001b[0;31m    (https://scontent.fbkk7-2.fna.fbcdn.net/v/t1.0-9/81468748_463654551247790_641386076404973568_n.jpg \"จากเฟส\")\u001b[0m\n\u001b[0m          ^\u001b[0m\n\u001b[0;31mSyntaxError\u001b[0m\u001b[0;31m:\u001b[0m invalid syntax\n"
     ]
    }
   ],
   "source": [
    "\n",
    "![]\n",
    "(https://scontent.fbkk7-2.fna.fbcdn.net/v/t1.0-9/81468748_463654551247790_641386076404973568_n.jpg \"จากเฟส\")"
   ]
  },
  {
   "cell_type": "markdown",
   "metadata": {},
   "source": [
    "The erythrocyte sedimentation rate (ESR) is one of the most common and traditional laboratory tests in the world\n",
    "\n",
    "* for detecting acute and chronic inflammation. This simple test has served as a nonspecific indicator of presence of * disease. It also has been found useful in monitoring response to therapy, especially in rheumatologic disease. It reflects both plasma concentration of acute-phase proteins of large molecular size and anaemia. The ESR test is easy to perform and inexpensive, is used today as a routine test worldwide. However, the ESR has some demerits, in \n",
    "\n",
    "* requiring large volume of sodium citrate or EDTA blood and at least 1 hr testing time. The minimum of 1 hr testing time is not practical for modernized laboratories. In this paper we investigated the possibility of using a rapid ESR test done on an inclined tube. We compared the results obtained by the rapid method and the traditional Westergren method of ESR using Pearson correlation. Blood samples from 153 patients with ESRs ranging from 1-165 \n",
    "\n",
    "* were used for the study. Four ml of sodium citrate blood (3.2 ml of blood & 0.8ml of 3.8% of sodium citrate) is prepared and two Westergren tubes filled. Both tubes are mounted on two separate Westergren tube racks. After mounting, one ESR tube is tilted to an angle of 45 degrees from vertical and readings were taken at 4, 4.5, 5, 5.5, 6, 6.5, 7, 7.5, 8, 8.5, 9, 9.5, 10, 10.5, 11.0, 11.5, 12, 12.5 and 13 minutes by noting the lowest point of the meniscus of clear plasma. The reading of the tube that is kept vertical is taken after 60 minutes. The statistical \n",
    "\n",
    "* analysis showed that the values of the modified method between 10.5 to 11.5 minutes showed significant correlation with the values of the standard method. The correlation is significant for low ESR values as well as extremely high values. The rapid ESR method has the advantage of being able to get a quick result. The accuracy of the results is acceptable. Same laboratory equipment can be used for the new method. This technique would be suitable for the rheumatology clinics where these test is requested frequently to modify the treatment."
   ]
  }
 ],
 "metadata": {
  "kernelspec": {
   "display_name": "Python 3",
   "language": "python",
   "name": "python3"
  },
  "language_info": {
   "codemirror_mode": {
    "name": "ipython",
    "version": 3
   },
   "file_extension": ".py",
   "mimetype": "text/x-python",
   "name": "python",
   "nbconvert_exporter": "python",
   "pygments_lexer": "ipython3",
   "version": "3.7.6"
  }
 },
 "nbformat": 4,
 "nbformat_minor": 4
}
